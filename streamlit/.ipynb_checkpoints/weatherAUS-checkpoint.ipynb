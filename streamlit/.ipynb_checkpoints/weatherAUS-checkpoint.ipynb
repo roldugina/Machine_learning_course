{
 "cells": [
  {
   "cell_type": "code",
   "execution_count": 9,
   "id": "9f23e055-9dcf-44d3-9894-ec71b901cedd",
   "metadata": {},
   "outputs": [],
   "source": [
    "import pandas as pd\n",
    "import numpy as np"
   ]
  },
  {
   "cell_type": "code",
   "execution_count": 10,
   "id": "506fea0d-e585-4ba2-aba2-a47740371d65",
   "metadata": {},
   "outputs": [
    {
     "data": {
      "text/plain": [
       "['models/aussie_rain.joblib']"
      ]
     },
     "execution_count": 10,
     "metadata": {},
     "output_type": "execute_result"
    }
   ],
   "source": [
    "import joblib\n",
    "aussie_rain = joblib.load('models/aussie_rain.joblib')\n",
    "joblib.dump(aussie_rain, 'models/aussie_rain.joblib', compress=('zlib', 3))"
   ]
  },
  {
   "cell_type": "code",
   "execution_count": 15,
   "id": "0a81f89f-b815-4da1-be3c-23a74d50d9a1",
   "metadata": {},
   "outputs": [],
   "source": [
    "imputer = aussie_rain['imputer']\n",
    "scaler = aussie_rain['scaler']\n",
    "encoder = aussie_rain['encoder']\n",
    "model = aussie_rain['model']"
   ]
  },
  {
   "cell_type": "code",
   "execution_count": 16,
   "id": "4aa44570-62d3-4a5c-8f32-aeba480f0abe",
   "metadata": {},
   "outputs": [],
   "source": [
    "raw_df = pd.read_csv('data/weatherAUS.csv')"
   ]
  },
  {
   "cell_type": "code",
   "execution_count": null,
   "id": "944ff5bf-e9c1-4305-97f1-5bced2783db1",
   "metadata": {},
   "outputs": [],
   "source": []
  }
 ],
 "metadata": {
  "kernelspec": {
   "display_name": "Python (streamlit_env)",
   "language": "python",
   "name": "streamlit_env"
  },
  "language_info": {
   "codemirror_mode": {
    "name": "ipython",
    "version": 3
   },
   "file_extension": ".py",
   "mimetype": "text/x-python",
   "name": "python",
   "nbconvert_exporter": "python",
   "pygments_lexer": "ipython3",
   "version": "3.12.3"
  }
 },
 "nbformat": 4,
 "nbformat_minor": 5
}
