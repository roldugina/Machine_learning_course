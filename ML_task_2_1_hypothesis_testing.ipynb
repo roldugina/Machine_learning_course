{
 "cells": [
  {
   "cell_type": "markdown",
   "metadata": {
    "id": "ID3uSQHkQJ2J"
   },
   "source": [
    "В цьому ДЗ потренуємось виконувати Z-тести для тестування гіпотез в різних задачах. Для коректної імплементації та інтерпретації тестів рекоемндую переглянути спершу документацію:\n",
    "\n",
    "https://www.statsmodels.org/dev/generated/statsmodels.stats.weightstats.ztest.html\n",
    "\n",
    "### Завдання 1: Z-тест для однієї вибірки\n",
    "\n",
    "**Мета**: Перевірити, чи середнє значення вибірки відрізняється від гіпотетичного середнього.\n",
    "\n",
    "**Припущення**: Середній ріст студентів університету вважається 170 см. Ми хочемо перевірити, чи середній ріст випадкової вибірки студентів істотно більший. Вибірка задана в змінній `heights`.\n",
    "\n",
    "Для виконання завдання імпортуйте метод для проведення `ztest`, виконайте Z-тест з Python, виведіть p-value і зробіть заключення, чи справдилось припущення про середній зріст студентів на рівні значущості 0.05?\n",
    "\n",
    "Використовуємо тут Z-тест, оскільки вибірка достатньо велика (більше 30 екземплярів) і можемо вважати, що її стандартне відхилення близьке до ст. відхилення генеральної сукупності, а значить - відоме."
   ]
  },
  {
   "cell_type": "code",
   "execution_count": 1,
   "metadata": {},
   "outputs": [],
   "source": [
    "#!pip install statsmodels --quiet"
   ]
  },
  {
   "cell_type": "code",
   "execution_count": 2,
   "metadata": {
    "executionInfo": {
     "elapsed": 239,
     "status": "ok",
     "timestamp": 1715545542820,
     "user": {
      "displayName": "Oksana Roldugina",
      "userId": "01503146237078383733"
     },
     "user_tz": -180
    },
    "id": "1r5ISdmK1aQb"
   },
   "outputs": [],
   "source": [
    "# імпортуємо потрібні бібліотеки\n",
    "\n",
    "import numpy as np\n",
    "from statsmodels.stats.weightstats import ztest\n",
    "from stat_hyp import stat_hypothesis"
   ]
  },
  {
   "cell_type": "code",
   "execution_count": 3,
   "metadata": {
    "executionInfo": {
     "elapsed": 12,
     "status": "ok",
     "timestamp": 1715545543064,
     "user": {
      "displayName": "Oksana Roldugina",
      "userId": "01503146237078383733"
     },
     "user_tz": -180
    },
    "id": "TUYNSCDzRE7N"
   },
   "outputs": [],
   "source": [
    "heights = [174, 171, 175, 179, 170, 170, 179, 175, 169, 174, 169, 169, 173, 162, 163, 169, 166,\n",
    "           173, 167, 164, 179, 170, 172, 164, 169, 175, 169, 174, 169, 169, 173, 162, 177]"
   ]
  },
  {
   "cell_type": "markdown",
   "metadata": {
    "id": "zchzv-OF4eAg"
   },
   "source": [
    "**Нульова гіпотеза H0** - середній зріст випадкової вибірки дорівнює 170 см.\n",
    "\n",
    "**Альтернативна гіпотеза Н1** - середній зріст випадкової вибірки *вище*, ніж 170 см."
   ]
  },
  {
   "cell_type": "code",
   "execution_count": 4,
   "metadata": {
    "executionInfo": {
     "elapsed": 13,
     "status": "ok",
     "timestamp": 1715545543066,
     "user": {
      "displayName": "Oksana Roldugina",
      "userId": "01503146237078383733"
     },
     "user_tz": -180
    },
    "id": "uTJEZPARYMd4"
   },
   "outputs": [],
   "source": [
    "# вихідні дані\n",
    "\n",
    "mean_h0 = 170\n",
    "alpha = 0.05\n",
    "n = len(heights)\n",
    "std_sample = np.std(heights)"
   ]
  },
  {
   "cell_type": "code",
   "execution_count": 5,
   "metadata": {
    "colab": {
     "base_uri": "https://localhost:8080/"
    },
    "executionInfo": {
     "elapsed": 13,
     "status": "ok",
     "timestamp": 1715545543068,
     "user": {
      "displayName": "Oksana Roldugina",
      "userId": "01503146237078383733"
     },
     "user_tz": -180
    },
    "id": "dmu38GH31yxS",
    "outputId": "a61905d5-0280-4a17-ea74-6025df71ab92"
   },
   "outputs": [
    {
     "name": "stdout",
     "output_type": "stream",
     "text": [
      "Стандартне відхилення вибірки (припускаємо, що стандартне відхилення ГС наближається до нього): 4.65\n"
     ]
    }
   ],
   "source": [
    "print(\"Стандартне відхилення вибірки (припускаємо, що стандартне відхилення ГС наближається до нього): {:.2f}\".format(std_sample))"
   ]
  },
  {
   "cell_type": "code",
   "execution_count": 6,
   "metadata": {
    "executionInfo": {
     "elapsed": 10,
     "status": "ok",
     "timestamp": 1715545543068,
     "user": {
      "displayName": "Oksana Roldugina",
      "userId": "01503146237078383733"
     },
     "user_tz": -180
    },
    "id": "Y8FOzsEF2OwF"
   },
   "outputs": [
    {
     "name": "stdout",
     "output_type": "stream",
     "text": [
      "Z-statistics is equal 0.848224\n",
      "P-value is equal 0.198157\n",
      "H0 не може бути відхилена\n"
     ]
    }
   ],
   "source": [
    "# виконуємо z-тест\n",
    "\n",
    "ztest_Score1, p_value1 = stat_hypothesis(heights,None, mean_h0,'larger',alpha)"
   ]
  },
  {
   "cell_type": "markdown",
   "metadata": {
    "id": "r0A0kFmv4Tye"
   },
   "source": [
    "**Висновок**\n",
    "\n",
    "На рівні значущості 0.05 вибіркові дані не протиречать гіпотезі H0.\n",
    "\n",
    "Тобто, на рівні значущості 0.05 ми не можемо стверджувати, що середній сріст студентів істотно вище, ніж 170 см."
   ]
  },
  {
   "cell_type": "markdown",
   "metadata": {
    "id": "ga4iKM9kQa9Q"
   },
   "source": [
    "### Завдання 2: Z-тест для двох незалежних вибірок\n",
    "\n",
    "**Завдання 2.1.**\n",
    "\n",
    "**Мета**: Перевірити, чи існує статистична різниця між середніми оцінками двох груп студентів.\n",
    "\n",
    "**Припущення**: Група A отримала новий навчальний курс, а група B продовжувала зі стандартним курсом. Ми перевіряємо, чи є новий курс ефективнішим.\n",
    "\n",
    "Виконайте Z-тест з Python, виведіть p-value і зробіть заключення, чи справдилось припущення щодо студентів на рівні значущості 0.05?"
   ]
  },
  {
   "cell_type": "code",
   "execution_count": 7,
   "metadata": {
    "executionInfo": {
     "elapsed": 57,
     "status": "ok",
     "timestamp": 1715545543431,
     "user": {
      "displayName": "Oksana Roldugina",
      "userId": "01503146237078383733"
     },
     "user_tz": -180
    },
    "id": "SngJjNBJTgBp"
   },
   "outputs": [],
   "source": [
    "group_a_scores = [78.55, 72.25, 79.88, 75.  , 76.54, 74.99, 87.26, 77.93, 72.71,\n",
    "       82.11, 71.9 , 79.04, 68.2 , 71.36, 78.98, 81.69, 78.86, 77.42,\n",
    "       76.49, 70.61, 74.4 , 75.7 , 83.29, 79.72, 69.18, 79.62, 76.07,\n",
    "       74.62, 81.06, 83.15, 82.66, 73.8 , 76.45, 79.66, 82.88, 75.6 ,\n",
    "       77.07, 72.47, 72.02, 82.06]\n",
    "\n",
    "group_b_scores = [81.78, 74.64, 80.02, 76.81, 71.77, 76.81, 82.69, 74.82, 82.82,\n",
    "       61.9 , 79.11, 75.44, 73.5 , 75.46, 65.06, 73.9 , 76.79, 82.39,\n",
    "       72.41, 70.96, 72.49, 79.58, 76.64, 72.35, 77.57, 75.49, 79.84,\n",
    "       71.49, 73.36, 73.04, 67.68, 76.48, 76.31, 75.03, 73.83, 67.92,\n",
    "       72.9 , 73.29, 70.99, 74.19]"
   ]
  },
  {
   "cell_type": "code",
   "execution_count": null,
   "metadata": {
    "executionInfo": {
     "elapsed": 56,
     "status": "ok",
     "timestamp": 1715545543431,
     "user": {
      "displayName": "Oksana Roldugina",
      "userId": "01503146237078383733"
     },
     "user_tz": -180
    },
    "id": "3ThvVD_aZQEL"
   },
   "outputs": [],
   "source": []
  },
  {
   "cell_type": "markdown",
   "metadata": {
    "id": "FwO2KbvXSm8X"
   },
   "source": [
    "**Нульова гіпотеза H0** - середнє значення оцінок групи А та В однакове.\n",
    "\n",
    "**Альтернативна гіпотеза Н1** - середнє значення оцінок в групі А *дорівнює* середньому значенню оцінок в групі В.\n",
    "\n",
    "Обрана гіпотеза \"дорівнює\", бо зазначена мета \"перевірити, чи існує статистична різниця між середніми оцінками двох груп студентів\""
   ]
  },
  {
   "cell_type": "code",
   "execution_count": 8,
   "metadata": {
    "colab": {
     "base_uri": "https://localhost:8080/"
    },
    "executionInfo": {
     "elapsed": 56,
     "status": "ok",
     "timestamp": 1715545543432,
     "user": {
      "displayName": "Oksana Roldugina",
      "userId": "01503146237078383733"
     },
     "user_tz": -180
    },
    "id": "CvftCAEHYPKL",
    "outputId": "2f07d1c0-04ab-429d-aef0-6f2a179c2f9a"
   },
   "outputs": [
    {
     "name": "stdout",
     "output_type": "stream",
     "text": [
      "Середнє групи А: 77.081250\n",
      "Середнє групи В: 74.738750\n"
     ]
    }
   ],
   "source": [
    "print(\"Середнє групи А: {:.6f}\".format(np.mean(group_a_scores)))\n",
    "print(\"Середнє групи В: {:.6f}\".format(np.mean(group_b_scores)))"
   ]
  },
  {
   "cell_type": "code",
   "execution_count": 9,
   "metadata": {
    "executionInfo": {
     "elapsed": 52,
     "status": "ok",
     "timestamp": 1715545543432,
     "user": {
      "displayName": "Oksana Roldugina",
      "userId": "01503146237078383733"
     },
     "user_tz": -180
    },
    "id": "JoRwA4ReSE5z"
   },
   "outputs": [],
   "source": [
    "# визначаємо рівень значущості\n",
    "\n",
    "alpha = 0.05"
   ]
  },
  {
   "cell_type": "code",
   "execution_count": 10,
   "metadata": {
    "executionInfo": {
     "elapsed": 51,
     "status": "ok",
     "timestamp": 1715545543433,
     "user": {
      "displayName": "Oksana Roldugina",
      "userId": "01503146237078383733"
     },
     "user_tz": -180
    },
    "id": "eUdvSWatJl02"
   },
   "outputs": [],
   "source": [
    "# виконуємо Z-тест\n",
    "\n",
    "#ztest_Score, p_value2 = ztest(group_a_scores, group_b_scores, value = 0, alternative = 'two-sided')"
   ]
  },
  {
   "cell_type": "code",
   "execution_count": 11,
   "metadata": {
    "colab": {
     "base_uri": "https://localhost:8080/"
    },
    "executionInfo": {
     "elapsed": 49,
     "status": "ok",
     "timestamp": 1715545543435,
     "user": {
      "displayName": "Oksana Roldugina",
      "userId": "01503146237078383733"
     },
     "user_tz": -180
    },
    "id": "rJi7o4ehR-SK",
    "outputId": "546f5dd3-1e76-4714-a968-cf9ca8fc22fa"
   },
   "outputs": [
    {
     "name": "stdout",
     "output_type": "stream",
     "text": [
      "Z-statistics is equal 2.357355\n",
      "P-value is equal 0.018406\n",
      "Відхилити h0\n"
     ]
    }
   ],
   "source": [
    "ztest_Score2, p_value2 = stat_hypothesis(group_a_scores, group_b_scores, 0,'two-sided',alpha)"
   ]
  },
  {
   "cell_type": "markdown",
   "metadata": {
    "id": "n9e5_9t9SXQP"
   },
   "source": [
    "**Висновок**\n",
    "\n",
    "На рівні значущості 0.05 вибіркові дані протиречать гіпотезі H0.\n",
    "\n",
    "Тобто, на рівні значущості 0.05 ми можемо стверджувати, що існує статистична різниця між середніми оцінками двох груп студентів."
   ]
  },
  {
   "cell_type": "markdown",
   "metadata": {
    "id": "zOxz2tU0VpJM"
   },
   "source": [
    "**Завдання 2.2.**\n",
    "\n",
    "\n",
    "**Мета**: Побачити, як впливає розмір вибірок на результат тесту.\n",
    "\n",
    "**Завдання**: Уявіть, що з групи А ми маємо тільки перші 5 записів, а з групи В - усі. Таке могло статись, якщо ми вже маємо результати тестів учнів за попередньою програмою, а тести за новою програмою здали наразі лише 5 учнів і ми вирішили не чекати довше.\n",
    "Виберіть перші 5 записів для групи А і проведіть t-test (для цього використовуємо наступний [метод](https://docs.scipy.org/doc/scipy/reference/generated/scipy.stats.ttest_ind.html)). Виведіть значення p-value. Зробіть висновок, який результат ви бачите щодо стат. значущості на рівні 0.05 для цього експерименту?\n",
    "\n",
    "Тут проводимо t-test оскільки одна з вибірок - дуже мала."
   ]
  },
  {
   "cell_type": "code",
   "execution_count": 12,
   "metadata": {
    "executionInfo": {
     "elapsed": 45,
     "status": "ok",
     "timestamp": 1715545543435,
     "user": {
      "displayName": "Oksana Roldugina",
      "userId": "01503146237078383733"
     },
     "user_tz": -180
    },
    "id": "D9znE6liYQmP"
   },
   "outputs": [],
   "source": [
    "from scipy.stats import ttest_ind"
   ]
  },
  {
   "cell_type": "code",
   "execution_count": 13,
   "metadata": {
    "colab": {
     "base_uri": "https://localhost:8080/"
    },
    "executionInfo": {
     "elapsed": 45,
     "status": "ok",
     "timestamp": 1715545543436,
     "user": {
      "displayName": "Oksana Roldugina",
      "userId": "01503146237078383733"
     },
     "user_tz": -180
    },
    "id": "h_H4YpiIgJuv",
    "outputId": "c2a6ff07-3ce9-4ac1-974f-32a3507de9c4"
   },
   "outputs": [],
   "source": [
    "# виконуємо t-тест\n",
    "\n",
    "t_statistic, p_value3 = ttest_ind(group_a_scores[:5], group_b_scores, equal_var = False, alternative = 'two-sided')"
   ]
  },
  {
   "cell_type": "code",
   "execution_count": 14,
   "metadata": {
    "colab": {
     "base_uri": "https://localhost:8080/"
    },
    "executionInfo": {
     "elapsed": 38,
     "status": "ok",
     "timestamp": 1715545543436,
     "user": {
      "displayName": "Oksana Roldugina",
      "userId": "01503146237078383733"
     },
     "user_tz": -180
    },
    "id": "AUmf5beghXCc",
    "outputId": "852b014f-ad38-443f-a9bd-69d32ff6337d"
   },
   "outputs": [
    {
     "name": "stdout",
     "output_type": "stream",
     "text": [
      "H0 не може бути відхилена\n"
     ]
    }
   ],
   "source": [
    "if (p_value3 < alpha):\n",
    "    print('Відхилити h0')\n",
    "else:\n",
    "    print('H0 не може бути відхилена')"
   ]
  },
  {
   "cell_type": "markdown",
   "metadata": {
    "id": "DgwqjyCdhhAn"
   },
   "source": [
    "**Висновок**\n",
    "\n",
    "На рівні значущості 0.05 вибіркові дані не протиречать гіпотезі H0.\n",
    "\n",
    "Тобто, на рівні значущості 0.05 ми не можемо стверджувати, що існує статистична різниця між середніми оцінками двох груп студентів."
   ]
  },
  {
   "cell_type": "markdown",
   "metadata": {
    "id": "3TcRHLLz0SLw"
   },
   "source": [
    "\n",
    "### Завдання 3\\*: Z-тест для двох **пов'язаних** вибірок\n",
    "\n",
    "**Мета**: Перевірити, чи вплинув тренінг на продуктивність працівників, коли всі справробітники проходили тренінг.\n",
    "\n",
    "**Припущення**: Наші працівники проходять однаковий тренінг, і ми хочемо з'ясувати, чи покращилися їхні показники після тренінгу на рівні значущості 0.05. Виконайте Z-тест з Python, виведіть p-value і зробіть заключення, чи поліпшились показники працівників на рівні значущості 0.05?\n",
    "\n",
    "Зверніть увагу, ці вибірки повʼязані між собою, значить не буде коректно виконати z-test між ними, натомість, ми можемо порівняти, чи різниця в результатах (продуктивності співробітників) є стат значущою."
   ]
  },
  {
   "cell_type": "code",
   "execution_count": 15,
   "metadata": {
    "executionInfo": {
     "elapsed": 35,
     "status": "ok",
     "timestamp": 1715545543437,
     "user": {
      "displayName": "Oksana Roldugina",
      "userId": "01503146237078383733"
     },
     "user_tz": -180
    },
    "id": "uxrjagJFW1GC"
   },
   "outputs": [],
   "source": [
    "before_training = [57.82, 37.63, 36.8 , 55.22, 52.97, 52.5 , 53.46, 43.2 , 52.32,\n",
    "       52.93, 42.86, 68.66, 54.74, 38.09, 56.57, 40.25, 57.87, 61.59,\n",
    "       41.79, 59.63, 54.13, 58.22, 68.97, 47.55, 42.46, 41.1 , 41.84,\n",
    "       49.23, 53.41, 52.77]\n",
    "\n",
    "after_training = [62.47, 40.66, 42.7 , 57.69, 61.41, 56.76, 54.75, 44.06, 56.29,\n",
    "       55.48, 47.28, 72.6 , 57.59, 39.39, 56.54, 42.36, 62.58, 65.01,\n",
    "       42.3 , 62.98, 57.9 , 59.45, 72.28, 50.66, 43.18, 44.82, 45.96,\n",
    "       54.4 , 58.52, 53.01]"
   ]
  },
  {
   "cell_type": "markdown",
   "metadata": {},
   "source": [
    "**Нульова гіпотеза H0** - середнє значення різниці оцінок групи А та В дорівнює 0.\n",
    "\n",
    "**Альтернативна гіпотеза Н1** - середнє значення різниці оцінок групи А та В більше 0."
   ]
  },
  {
   "cell_type": "code",
   "execution_count": 16,
   "metadata": {
    "colab": {
     "base_uri": "https://localhost:8080/"
    },
    "executionInfo": {
     "elapsed": 30,
     "status": "ok",
     "timestamp": 1715545543437,
     "user": {
      "displayName": "Oksana Roldugina",
      "userId": "01503146237078383733"
     },
     "user_tz": -180
    },
    "id": "b9WmVb6zrg0N",
    "outputId": "1ab2a4b9-5d97-4f0f-ea5a-f42a1e23ffe1"
   },
   "outputs": [
    {
     "name": "stdout",
     "output_type": "stream",
     "text": [
      "Кількість елементів в групі before_training: 30\n",
      "Різниця в довжині груп before_training та after_training: 0\n"
     ]
    }
   ],
   "source": [
    "# перевіряємо, чи однакова довжина списків\n",
    "\n",
    "print(f'Кількість елементів в групі before_training: {len(before_training)}')\n",
    "print(f'Різниця в довжині груп before_training та after_training: {len(before_training)-len(after_training)}')"
   ]
  },
  {
   "cell_type": "code",
   "execution_count": 17,
   "metadata": {
    "executionInfo": {
     "elapsed": 26,
     "status": "ok",
     "timestamp": 1715545543437,
     "user": {
      "displayName": "Oksana Roldugina",
      "userId": "01503146237078383733"
     },
     "user_tz": -180
    },
    "id": "Z7OM8nCerhfv"
   },
   "outputs": [],
   "source": [
    "# формуємо список з різницями в результатах\n",
    "\n",
    "training_diff = [x - y for x, y in zip(after_training, before_training)]"
   ]
  },
  {
   "cell_type": "code",
   "execution_count": 18,
   "metadata": {
    "colab": {
     "base_uri": "https://localhost:8080/"
    },
    "executionInfo": {
     "elapsed": 9,
     "status": "ok",
     "timestamp": 1715545566790,
     "user": {
      "displayName": "Oksana Roldugina",
      "userId": "01503146237078383733"
     },
     "user_tz": -180
    },
    "id": "czTdz9ffe2jA",
    "outputId": "717d314d-8d07-4b1e-d0e9-fb8b6993ef8f"
   },
   "outputs": [
    {
     "name": "stdout",
     "output_type": "stream",
     "text": [
      "Z-statistics is equal 9.138900\n",
      "P-value is equal 0.000000\n",
      "Відхилити h0\n"
     ]
    }
   ],
   "source": [
    "ztest_Score4, p_value4 = stat_hypothesis(training_diff, None, 0,'larger',alpha)"
   ]
  },
  {
   "cell_type": "markdown",
   "metadata": {},
   "source": [
    "**Висновок**\n",
    "\n",
    "На рівні значущості 0.05 вибіркові дані протиречать гіпотезі H0.\n",
    "\n",
    "Тобто, на рівні значущості 0.05 ми можемо стверджувати, що є статистична різниця між середніми оцінками до та після тренінга. Після тренінга результати покращились."
   ]
  },
  {
   "cell_type": "code",
   "execution_count": null,
   "metadata": {},
   "outputs": [],
   "source": []
  }
 ],
 "metadata": {
  "colab": {
   "provenance": [
    {
     "file_id": "1Qlg8jFeXzZzhgiNF7AP2hCODx1_I8zu3",
     "timestamp": 1715517576750
    }
   ]
  },
  "kernelspec": {
   "display_name": "Python 3 (ipykernel)",
   "language": "python",
   "name": "python3"
  },
  "language_info": {
   "codemirror_mode": {
    "name": "ipython",
    "version": 3
   },
   "file_extension": ".py",
   "mimetype": "text/x-python",
   "name": "python",
   "nbconvert_exporter": "python",
   "pygments_lexer": "ipython3",
   "version": "3.12.3"
  }
 },
 "nbformat": 4,
 "nbformat_minor": 4
}
